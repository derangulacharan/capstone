{
  "nbformat": 4,
  "nbformat_minor": 0,
  "metadata": {
    "colab": {
      "provenance": [],
      "authorship_tag": "ABX9TyNQ6dPWyAoH4uJLlh3XUk0V",
      "include_colab_link": true
    },
    "kernelspec": {
      "name": "python3",
      "display_name": "Python 3"
    },
    "language_info": {
      "name": "python"
    }
  },
  "cells": [
    {
      "cell_type": "markdown",
      "metadata": {
        "id": "view-in-github",
        "colab_type": "text"
      },
      "source": [
        "<a href=\"https://colab.research.google.com/github/derangulacharan/capstone/blob/main/Capstone.ipynb\" target=\"_parent\"><img src=\"https://colab.research.google.com/assets/colab-badge.svg\" alt=\"Open In Colab\"/></a>"
      ]
    },
    {
      "cell_type": "code",
      "execution_count": null,
      "metadata": {
        "id": "qhpiSAtEUE5z"
      },
      "outputs": [],
      "source": [
        "import pandas as pd\n",
        "from sklearn.model_selection import train_test_split\n",
        "from sklearn.preprocessing import LabelEncoder\n",
        "from transformers import BertTokenizer, TFBertForSequenceClassification\n",
        "import tensorflow as tf"
      ]
    },
    {
      "cell_type": "markdown",
      "source": [
        "Load data sets"
      ],
      "metadata": {
        "id": "Nb55dIygUW6S"
      }
    },
    {
      "cell_type": "code",
      "source": [
        "from google.colab import files\n",
        "uploaded = files.upload()\n"
      ],
      "metadata": {
        "colab": {
          "base_uri": "https://localhost:8080/",
          "height": 73
        },
        "id": "P51e33T8Yon-",
        "outputId": "8e39a87e-4917-48d9-8781-4320b2e41fcd"
      },
      "execution_count": null,
      "outputs": [
        {
          "output_type": "display_data",
          "data": {
            "text/plain": [
              "<IPython.core.display.HTML object>"
            ],
            "text/html": [
              "\n",
              "     <input type=\"file\" id=\"files-46a9aea7-9c57-4d63-a84e-ee2e87635faf\" name=\"files[]\" multiple disabled\n",
              "        style=\"border:none\" />\n",
              "     <output id=\"result-46a9aea7-9c57-4d63-a84e-ee2e87635faf\">\n",
              "      Upload widget is only available when the cell has been executed in the\n",
              "      current browser session. Please rerun this cell to enable.\n",
              "      </output>\n",
              "      <script>// Copyright 2017 Google LLC\n",
              "//\n",
              "// Licensed under the Apache License, Version 2.0 (the \"License\");\n",
              "// you may not use this file except in compliance with the License.\n",
              "// You may obtain a copy of the License at\n",
              "//\n",
              "//      http://www.apache.org/licenses/LICENSE-2.0\n",
              "//\n",
              "// Unless required by applicable law or agreed to in writing, software\n",
              "// distributed under the License is distributed on an \"AS IS\" BASIS,\n",
              "// WITHOUT WARRANTIES OR CONDITIONS OF ANY KIND, either express or implied.\n",
              "// See the License for the specific language governing permissions and\n",
              "// limitations under the License.\n",
              "\n",
              "/**\n",
              " * @fileoverview Helpers for google.colab Python module.\n",
              " */\n",
              "(function(scope) {\n",
              "function span(text, styleAttributes = {}) {\n",
              "  const element = document.createElement('span');\n",
              "  element.textContent = text;\n",
              "  for (const key of Object.keys(styleAttributes)) {\n",
              "    element.style[key] = styleAttributes[key];\n",
              "  }\n",
              "  return element;\n",
              "}\n",
              "\n",
              "// Max number of bytes which will be uploaded at a time.\n",
              "const MAX_PAYLOAD_SIZE = 100 * 1024;\n",
              "\n",
              "function _uploadFiles(inputId, outputId) {\n",
              "  const steps = uploadFilesStep(inputId, outputId);\n",
              "  const outputElement = document.getElementById(outputId);\n",
              "  // Cache steps on the outputElement to make it available for the next call\n",
              "  // to uploadFilesContinue from Python.\n",
              "  outputElement.steps = steps;\n",
              "\n",
              "  return _uploadFilesContinue(outputId);\n",
              "}\n",
              "\n",
              "// This is roughly an async generator (not supported in the browser yet),\n",
              "// where there are multiple asynchronous steps and the Python side is going\n",
              "// to poll for completion of each step.\n",
              "// This uses a Promise to block the python side on completion of each step,\n",
              "// then passes the result of the previous step as the input to the next step.\n",
              "function _uploadFilesContinue(outputId) {\n",
              "  const outputElement = document.getElementById(outputId);\n",
              "  const steps = outputElement.steps;\n",
              "\n",
              "  const next = steps.next(outputElement.lastPromiseValue);\n",
              "  return Promise.resolve(next.value.promise).then((value) => {\n",
              "    // Cache the last promise value to make it available to the next\n",
              "    // step of the generator.\n",
              "    outputElement.lastPromiseValue = value;\n",
              "    return next.value.response;\n",
              "  });\n",
              "}\n",
              "\n",
              "/**\n",
              " * Generator function which is called between each async step of the upload\n",
              " * process.\n",
              " * @param {string} inputId Element ID of the input file picker element.\n",
              " * @param {string} outputId Element ID of the output display.\n",
              " * @return {!Iterable<!Object>} Iterable of next steps.\n",
              " */\n",
              "function* uploadFilesStep(inputId, outputId) {\n",
              "  const inputElement = document.getElementById(inputId);\n",
              "  inputElement.disabled = false;\n",
              "\n",
              "  const outputElement = document.getElementById(outputId);\n",
              "  outputElement.innerHTML = '';\n",
              "\n",
              "  const pickedPromise = new Promise((resolve) => {\n",
              "    inputElement.addEventListener('change', (e) => {\n",
              "      resolve(e.target.files);\n",
              "    });\n",
              "  });\n",
              "\n",
              "  const cancel = document.createElement('button');\n",
              "  inputElement.parentElement.appendChild(cancel);\n",
              "  cancel.textContent = 'Cancel upload';\n",
              "  const cancelPromise = new Promise((resolve) => {\n",
              "    cancel.onclick = () => {\n",
              "      resolve(null);\n",
              "    };\n",
              "  });\n",
              "\n",
              "  // Wait for the user to pick the files.\n",
              "  const files = yield {\n",
              "    promise: Promise.race([pickedPromise, cancelPromise]),\n",
              "    response: {\n",
              "      action: 'starting',\n",
              "    }\n",
              "  };\n",
              "\n",
              "  cancel.remove();\n",
              "\n",
              "  // Disable the input element since further picks are not allowed.\n",
              "  inputElement.disabled = true;\n",
              "\n",
              "  if (!files) {\n",
              "    return {\n",
              "      response: {\n",
              "        action: 'complete',\n",
              "      }\n",
              "    };\n",
              "  }\n",
              "\n",
              "  for (const file of files) {\n",
              "    const li = document.createElement('li');\n",
              "    li.append(span(file.name, {fontWeight: 'bold'}));\n",
              "    li.append(span(\n",
              "        `(${file.type || 'n/a'}) - ${file.size} bytes, ` +\n",
              "        `last modified: ${\n",
              "            file.lastModifiedDate ? file.lastModifiedDate.toLocaleDateString() :\n",
              "                                    'n/a'} - `));\n",
              "    const percent = span('0% done');\n",
              "    li.appendChild(percent);\n",
              "\n",
              "    outputElement.appendChild(li);\n",
              "\n",
              "    const fileDataPromise = new Promise((resolve) => {\n",
              "      const reader = new FileReader();\n",
              "      reader.onload = (e) => {\n",
              "        resolve(e.target.result);\n",
              "      };\n",
              "      reader.readAsArrayBuffer(file);\n",
              "    });\n",
              "    // Wait for the data to be ready.\n",
              "    let fileData = yield {\n",
              "      promise: fileDataPromise,\n",
              "      response: {\n",
              "        action: 'continue',\n",
              "      }\n",
              "    };\n",
              "\n",
              "    // Use a chunked sending to avoid message size limits. See b/62115660.\n",
              "    let position = 0;\n",
              "    do {\n",
              "      const length = Math.min(fileData.byteLength - position, MAX_PAYLOAD_SIZE);\n",
              "      const chunk = new Uint8Array(fileData, position, length);\n",
              "      position += length;\n",
              "\n",
              "      const base64 = btoa(String.fromCharCode.apply(null, chunk));\n",
              "      yield {\n",
              "        response: {\n",
              "          action: 'append',\n",
              "          file: file.name,\n",
              "          data: base64,\n",
              "        },\n",
              "      };\n",
              "\n",
              "      let percentDone = fileData.byteLength === 0 ?\n",
              "          100 :\n",
              "          Math.round((position / fileData.byteLength) * 100);\n",
              "      percent.textContent = `${percentDone}% done`;\n",
              "\n",
              "    } while (position < fileData.byteLength);\n",
              "  }\n",
              "\n",
              "  // All done.\n",
              "  yield {\n",
              "    response: {\n",
              "      action: 'complete',\n",
              "    }\n",
              "  };\n",
              "}\n",
              "\n",
              "scope.google = scope.google || {};\n",
              "scope.google.colab = scope.google.colab || {};\n",
              "scope.google.colab._files = {\n",
              "  _uploadFiles,\n",
              "  _uploadFilesContinue,\n",
              "};\n",
              "})(self);\n",
              "</script> "
            ]
          },
          "metadata": {}
        },
        {
          "output_type": "stream",
          "name": "stdout",
          "text": [
            "Saving Disease_symptom_and_patient_profile_dataset.csv to Disease_symptom_and_patient_profile_dataset.csv\n"
          ]
        }
      ]
    },
    {
      "cell_type": "code",
      "source": [
        "import pandas as pd\n",
        "\n",
        "# Assuming the file name is 'Disease_symptom_and_patient_profile_dataset.csv'\n",
        "df1 = pd.read_csv('Disease_symptom_and_patient_profile_dataset.csv')\n",
        "\n",
        "# Display the first few rows to ensure it's loaded correctly\n",
        "print(df1.head())\n"
      ],
      "metadata": {
        "colab": {
          "base_uri": "https://localhost:8080/"
        },
        "id": "D7SIdTL8UT4h",
        "outputId": "8d0b4726-876e-40a2-ceea-d397dc0f6448"
      },
      "execution_count": null,
      "outputs": [
        {
          "output_type": "stream",
          "name": "stdout",
          "text": [
            "       Disease Fever Cough Fatigue Difficulty Breathing  Age  Gender  \\\n",
            "0    Influenza   Yes    No     Yes                  Yes   19  Female   \n",
            "1  Common Cold    No   Yes     Yes                   No   25  Female   \n",
            "2       Eczema    No   Yes     Yes                   No   25  Female   \n",
            "3       Asthma   Yes   Yes      No                  Yes   25    Male   \n",
            "4       Asthma   Yes   Yes      No                  Yes   25    Male   \n",
            "\n",
            "  Blood Pressure Cholesterol Level Outcome Variable  \n",
            "0            Low            Normal         Positive  \n",
            "1         Normal            Normal         Negative  \n",
            "2         Normal            Normal         Negative  \n",
            "3         Normal            Normal         Positive  \n",
            "4         Normal            Normal         Positive  \n"
          ]
        }
      ]
    },
    {
      "cell_type": "code",
      "source": [
        "# Check basic info and missing values\n",
        "print(df1.info())\n",
        "print(df1.isnull().sum())\n"
      ],
      "metadata": {
        "colab": {
          "base_uri": "https://localhost:8080/"
        },
        "id": "EkY0vWYrUY3p",
        "outputId": "351edd22-d55c-4e6b-acbf-d51b466c58f3"
      },
      "execution_count": null,
      "outputs": [
        {
          "output_type": "stream",
          "name": "stdout",
          "text": [
            "<class 'pandas.core.frame.DataFrame'>\n",
            "RangeIndex: 349 entries, 0 to 348\n",
            "Data columns (total 10 columns):\n",
            " #   Column                Non-Null Count  Dtype \n",
            "---  ------                --------------  ----- \n",
            " 0   Disease               349 non-null    object\n",
            " 1   Fever                 349 non-null    object\n",
            " 2   Cough                 349 non-null    object\n",
            " 3   Fatigue               349 non-null    object\n",
            " 4   Difficulty Breathing  349 non-null    object\n",
            " 5   Age                   349 non-null    int64 \n",
            " 6   Gender                349 non-null    object\n",
            " 7   Blood Pressure        349 non-null    object\n",
            " 8   Cholesterol Level     349 non-null    object\n",
            " 9   Outcome Variable      349 non-null    object\n",
            "dtypes: int64(1), object(9)\n",
            "memory usage: 27.4+ KB\n",
            "None\n",
            "Disease                 0\n",
            "Fever                   0\n",
            "Cough                   0\n",
            "Fatigue                 0\n",
            "Difficulty Breathing    0\n",
            "Age                     0\n",
            "Gender                  0\n",
            "Blood Pressure          0\n",
            "Cholesterol Level       0\n",
            "Outcome Variable        0\n",
            "dtype: int64\n"
          ]
        }
      ]
    },
    {
      "cell_type": "code",
      "source": [
        "import pandas as pd\n",
        "import numpy as np\n",
        "from sklearn.model_selection import train_test_split\n",
        "from sklearn.feature_extraction.text import TfidfVectorizer\n",
        "from sklearn.preprocessing import LabelEncoder\n",
        "from nltk.tokenize import word_tokenize\n",
        "from nltk.corpus import stopwords\n",
        "from nltk.stem import WordNetLemmatizer\n",
        "from tensorflow.keras.models import Sequential\n",
        "from tensorflow.keras.layers import Dense, Dropout\n",
        "from tensorflow.keras.optimizers import Adam\n"
      ],
      "metadata": {
        "id": "n1U4xy92aMYr"
      },
      "execution_count": null,
      "outputs": []
    },
    {
      "cell_type": "code",
      "source": [
        "import nltk\n",
        "from nltk.corpus import stopwords\n",
        "from nltk.tokenize import word_tokenize\n",
        "from nltk.stem import WordNetLemmatizer\n",
        "\n",
        "nltk.download('punkt')\n",
        "nltk.download('stopwords')\n",
        "nltk.download('wordnet')\n",
        "\n",
        "lemmatizer = WordNetLemmatizer()\n",
        "stop_words = set(stopwords.words('english'))\n",
        "\n",
        "def preprocess_text(text):\n",
        "    tokens = word_tokenize(text.lower())\n",
        "    tokens = [lemmatizer.lemmatize(word) for word in tokens if word.isalnum()]\n",
        "    tokens = [word for word in tokens if word not in stop_words]\n",
        "    return ' '.join(tokens)\n",
        "\n",
        "df1['processed_text'] = df1['symptoms'].apply(preprocess_text)\n"
      ],
      "metadata": {
        "colab": {
          "base_uri": "https://localhost:8080/"
        },
        "id": "gpWx6Bd0HnW6",
        "outputId": "cd62f1a0-ccfb-4ff5-ca5f-3bb78721c56a"
      },
      "execution_count": null,
      "outputs": [
        {
          "output_type": "stream",
          "name": "stderr",
          "text": [
            "[nltk_data] Downloading package punkt to /root/nltk_data...\n",
            "[nltk_data]   Package punkt is already up-to-date!\n",
            "[nltk_data] Downloading package stopwords to /root/nltk_data...\n",
            "[nltk_data]   Package stopwords is already up-to-date!\n",
            "[nltk_data] Downloading package wordnet to /root/nltk_data...\n",
            "[nltk_data]   Package wordnet is already up-to-date!\n"
          ]
        }
      ]
    },
    {
      "cell_type": "code",
      "source": [
        "import nltk\n",
        "nltk.download('punkt')\n",
        "nltk.download('stopwords')\n",
        "nltk.download('wordnet')\n"
      ],
      "metadata": {
        "colab": {
          "base_uri": "https://localhost:8080/"
        },
        "id": "2vQMTwNBaPb7",
        "outputId": "0c029d51-f21b-4e38-81ee-26f3b63ae8a2"
      },
      "execution_count": null,
      "outputs": [
        {
          "output_type": "stream",
          "name": "stderr",
          "text": [
            "[nltk_data] Downloading package punkt to /root/nltk_data...\n",
            "[nltk_data]   Unzipping tokenizers/punkt.zip.\n",
            "[nltk_data] Downloading package stopwords to /root/nltk_data...\n",
            "[nltk_data]   Unzipping corpora/stopwords.zip.\n",
            "[nltk_data] Downloading package wordnet to /root/nltk_data...\n"
          ]
        },
        {
          "output_type": "execute_result",
          "data": {
            "text/plain": [
              "True"
            ]
          },
          "metadata": {},
          "execution_count": 10
        }
      ]
    },
    {
      "cell_type": "markdown",
      "source": [
        "Data PreProcessing"
      ],
      "metadata": {
        "id": "m56GZkXQZkz2"
      }
    },
    {
      "cell_type": "markdown",
      "source": [
        "a. Combine Symptom Columns:"
      ],
      "metadata": {
        "id": "yvsRE_lcZpNS"
      }
    },
    {
      "cell_type": "code",
      "source": [
        "stop_words = set(stopwords.words('english'))\n",
        "lemmatizer = WordNetLemmatizer()\n",
        "\n",
        "def combine_symptoms(row):\n",
        "    symptoms = []\n",
        "    if row['Fever'] == 'yes': symptoms.append('fever')\n",
        "    if row['Cough'] == 'yes': symptoms.append('cough')\n",
        "    if row['Fatigue'] == 'yes': symptoms.append('fatigue')\n",
        "    if row['Difficulty Breathing'] == 'yes': symptoms.append('difficulty breathing')\n",
        "    return ' '.join(symptoms)\n",
        "\n",
        "def preprocess_text(text):\n",
        "    tokens = word_tokenize(text.lower())\n",
        "    tokens = [lemmatizer.lemmatize(word) for word in tokens if word.isalnum()]\n",
        "    tokens = [word for word in tokens if word not in stop_words]\n",
        "    return ' '.join(tokens)\n"
      ],
      "metadata": {
        "id": "Pp2XlmsuZbSV"
      },
      "execution_count": null,
      "outputs": []
    },
    {
      "cell_type": "markdown",
      "source": [
        " Text Preprocessing\n"
      ],
      "metadata": {
        "id": "pPTEoV-nZzPU"
      }
    },
    {
      "cell_type": "code",
      "source": [
        "df1['symptoms'] = df1.apply(combine_symptoms, axis=1)\n",
        "df1['processed_text'] = df1['symptoms'].apply(preprocess_text)\n"
      ],
      "metadata": {
        "id": "lnEbqkXPZ0qk"
      },
      "execution_count": null,
      "outputs": []
    },
    {
      "cell_type": "markdown",
      "source": [
        "Vectorization"
      ],
      "metadata": {
        "id": "oO4quxgAZ6NT"
      }
    },
    {
      "cell_type": "code",
      "source": [
        "print(df1['processed_text'].head())\n"
      ],
      "metadata": {
        "colab": {
          "base_uri": "https://localhost:8080/"
        },
        "id": "eJs0ih6hGLNS",
        "outputId": "98c2acc7-e453-42dc-acfb-e22bd1e63576"
      },
      "execution_count": null,
      "outputs": [
        {
          "output_type": "stream",
          "name": "stdout",
          "text": [
            "0    \n",
            "1    \n",
            "2    \n",
            "3    \n",
            "4    \n",
            "Name: processed_text, dtype: object\n"
          ]
        }
      ]
    },
    {
      "cell_type": "code",
      "source": [
        "def preprocess_text(text):\n",
        "    tokens = word_tokenize(text.lower())\n",
        "    tokens = [lemmatizer.lemmatize(word) for word in tokens if word.isalnum()]\n",
        "    # Optionally keep some stopwords if necessary\n",
        "    tokens = [word for word in tokens if word not in stop_words or word in ['fever', 'cough', 'fatigue', 'difficulty']]\n",
        "    return ' '.join(tokens)\n"
      ],
      "metadata": {
        "id": "NFO3GXjkGOix"
      },
      "execution_count": null,
      "outputs": []
    },
    {
      "cell_type": "code",
      "source": [
        "print(df1['processed_text'].head(10))  # Display the first 10 entries\n"
      ],
      "metadata": {
        "colab": {
          "base_uri": "https://localhost:8080/"
        },
        "id": "d2sfEiT5G96N",
        "outputId": "87942b9b-6097-4b1e-ebf6-f5418efc3aef"
      },
      "execution_count": null,
      "outputs": [
        {
          "output_type": "stream",
          "name": "stdout",
          "text": [
            "0    \n",
            "1    \n",
            "2    \n",
            "3    \n",
            "4    \n",
            "5    \n",
            "6    \n",
            "7    \n",
            "8    \n",
            "9    \n",
            "Name: processed_text, dtype: object\n"
          ]
        }
      ]
    },
    {
      "cell_type": "code",
      "source": [
        "def preprocess_text(text):\n",
        "    text = text.lower()\n",
        "    text = re.sub(r'\\b(?:{})\\b'.format('|'.join(stopwords.words('english'))), '', text)\n",
        "    text = re.sub(r'[^\\w\\s]', '', text)\n",
        "    return text.strip()\n"
      ],
      "metadata": {
        "id": "tAAQ9bzcHDzI"
      },
      "execution_count": null,
      "outputs": []
    },
    {
      "cell_type": "code",
      "source": [
        "import re\n",
        "from nltk.corpus import stopwords\n"
      ],
      "metadata": {
        "id": "OYhhT7X5HMeA"
      },
      "execution_count": null,
      "outputs": []
    },
    {
      "cell_type": "code",
      "source": [
        "df1['processed_text'] = df1['symptoms'].apply(lambda x: preprocess_text(x))\n",
        "print(df1[['symptoms', 'processed_text']].head(10))  # See before and after preprocessing\n"
      ],
      "metadata": {
        "colab": {
          "base_uri": "https://localhost:8080/"
        },
        "id": "t5gT89cLHF67",
        "outputId": "e3f941ea-53bc-479f-fbbc-a4b61ca8ebad"
      },
      "execution_count": null,
      "outputs": [
        {
          "output_type": "stream",
          "name": "stdout",
          "text": [
            "  symptoms processed_text\n",
            "0                        \n",
            "1                        \n",
            "2                        \n",
            "3                        \n",
            "4                        \n",
            "5                        \n",
            "6                        \n",
            "7                        \n",
            "8                        \n",
            "9                        \n"
          ]
        }
      ]
    },
    {
      "cell_type": "markdown",
      "source": [
        "Adjusted Preprocessing Code\n"
      ],
      "metadata": {
        "id": "yGnjtZovHfFm"
      }
    },
    {
      "cell_type": "markdown",
      "source": [
        "a)Simplify the Preprocessing Function:"
      ],
      "metadata": {
        "id": "DHxleiDdHZep"
      }
    },
    {
      "cell_type": "code",
      "source": [
        "def preprocess_text(text):\n",
        "    # Convert text to lowercase\n",
        "    text = text.lower()\n",
        "    # Remove punctuation\n",
        "    text = re.sub(r'[^\\w\\s]', '', text)\n",
        "    # Remove stopwords\n",
        "    stop_words = set(stopwords.words('english'))\n",
        "    text = ' '.join([word for word in text.split() if word not in stop_words])\n",
        "    return text\n"
      ],
      "metadata": {
        "id": "IVd6A4GsHS4s"
      },
      "execution_count": null,
      "outputs": []
    },
    {
      "cell_type": "markdown",
      "source": [
        "Re-run the Preprocessing"
      ],
      "metadata": {
        "id": "OWXHwqo0Hr4Z"
      }
    },
    {
      "cell_type": "code",
      "source": [
        "df1['processed_text'] = df1['symptoms'].apply(lambda x: preprocess_text(x) if pd.notnull(x) else '')\n",
        "print(df1[['symptoms', 'processed_text']].head(10))\n"
      ],
      "metadata": {
        "colab": {
          "base_uri": "https://localhost:8080/"
        },
        "id": "Jhe2RsIQZKbA",
        "outputId": "15315a0d-2582-4b16-c646-c756cadec97c"
      },
      "execution_count": null,
      "outputs": [
        {
          "output_type": "stream",
          "name": "stdout",
          "text": [
            "  symptoms processed_text\n",
            "0                        \n",
            "1                        \n",
            "2                        \n",
            "3                        \n",
            "4                        \n",
            "5                        \n",
            "6                        \n",
            "7                        \n",
            "8                        \n",
            "9                        \n"
          ]
        }
      ]
    },
    {
      "cell_type": "markdown",
      "source": [
        "Debugging Steps\n"
      ],
      "metadata": {
        "id": "R0aN5xZOH2VO"
      }
    },
    {
      "cell_type": "markdown",
      "source": [
        "Check the Content of the symptoms Column:\n"
      ],
      "metadata": {
        "id": "GhlkPK95H4Jo"
      }
    },
    {
      "cell_type": "code",
      "source": [
        "print(df1['symptoms'].head(10))\n"
      ],
      "metadata": {
        "colab": {
          "base_uri": "https://localhost:8080/"
        },
        "id": "KtMJPa-WHvOb",
        "outputId": "df18b6ce-d2cc-4b8e-b745-3ff5b8cdbb7e"
      },
      "execution_count": null,
      "outputs": [
        {
          "output_type": "stream",
          "name": "stdout",
          "text": [
            "0    \n",
            "1    \n",
            "2    \n",
            "3    \n",
            "4    \n",
            "5    \n",
            "6    \n",
            "7    \n",
            "8    \n",
            "9    \n",
            "Name: symptoms, dtype: object\n"
          ]
        }
      ]
    },
    {
      "cell_type": "markdown",
      "source": [
        "Directly Test the Preprocessing Function\n"
      ],
      "metadata": {
        "id": "U_qBWUBIICEO"
      }
    },
    {
      "cell_type": "code",
      "source": [
        "test_text = \"Fever, Cough, and Fatigue\"\n",
        "processed = preprocess_text(test_text)\n",
        "print(processed)\n"
      ],
      "metadata": {
        "colab": {
          "base_uri": "https://localhost:8080/"
        },
        "id": "OGLunzKJH77X",
        "outputId": "e253ba4a-06d1-4896-ad5a-e861121fc6bc"
      },
      "execution_count": null,
      "outputs": [
        {
          "output_type": "stream",
          "name": "stdout",
          "text": [
            "fever cough fatigue\n"
          ]
        }
      ]
    },
    {
      "cell_type": "markdown",
      "source": [
        "Ensure Data Integrity"
      ],
      "metadata": {
        "id": "3YcS_chiIJIo"
      }
    },
    {
      "cell_type": "code",
      "source": [
        "df1['processed_text'] = df1['symptoms'].apply(lambda x: preprocess_text(x) if pd.notnull(x) else '')\n",
        "print(df1[['symptoms', 'processed_text']].head(10))\n"
      ],
      "metadata": {
        "colab": {
          "base_uri": "https://localhost:8080/"
        },
        "id": "eowbgG8SH-tQ",
        "outputId": "a8648c83-2979-43a6-d86f-5a0e410c6e47"
      },
      "execution_count": null,
      "outputs": [
        {
          "output_type": "stream",
          "name": "stdout",
          "text": [
            "  symptoms processed_text\n",
            "0                        \n",
            "1                        \n",
            "2                        \n",
            "3                        \n",
            "4                        \n",
            "5                        \n",
            "6                        \n",
            "7                        \n",
            "8                        \n",
            "9                        \n"
          ]
        }
      ]
    },
    {
      "cell_type": "markdown",
      "source": [
        " Check Processed Text"
      ],
      "metadata": {
        "id": "R-803FzZIdmz"
      }
    },
    {
      "cell_type": "code",
      "source": [
        "print(df1['processed_text'].head(20))\n"
      ],
      "metadata": {
        "colab": {
          "base_uri": "https://localhost:8080/"
        },
        "id": "2zGtmef5ILE_",
        "outputId": "a5a53d3d-2903-4a21-db78-055df20a1a1b"
      },
      "execution_count": null,
      "outputs": [
        {
          "output_type": "stream",
          "name": "stdout",
          "text": [
            "0     \n",
            "1     \n",
            "2     \n",
            "3     \n",
            "4     \n",
            "5     \n",
            "6     \n",
            "7     \n",
            "8     \n",
            "9     \n",
            "10    \n",
            "11    \n",
            "12    \n",
            "13    \n",
            "14    \n",
            "15    \n",
            "16    \n",
            "17    \n",
            "18    \n",
            "19    \n",
            "Name: processed_text, dtype: object\n"
          ]
        }
      ]
    },
    {
      "cell_type": "markdown",
      "source": [
        "Modify Preprocessing Function"
      ],
      "metadata": {
        "id": "OP8lr5VqIy8x"
      }
    },
    {
      "cell_type": "code",
      "source": [
        "import re\n",
        "from nltk.corpus import stopwords\n",
        "\n",
        "def preprocess_text(text):\n",
        "    text = text.lower()\n",
        "    text = re.sub(r'[^\\w\\s]', '', text)  # Remove punctuation\n",
        "    # text = re.sub(r'\\b(?:{})\\b'.format('|'.join(stopwords.words('english'))), '', text)  # Optional: Remove stop words\n",
        "    text = re.sub(r'\\s+', ' ', text)  # Remove extra whitespace\n",
        "    return text.strip()\n"
      ],
      "metadata": {
        "id": "aag9uRwFIhgC"
      },
      "execution_count": null,
      "outputs": []
    },
    {
      "cell_type": "markdown",
      "source": [
        "Reprocess the Text Column"
      ],
      "metadata": {
        "id": "enTznmB_I8po"
      }
    },
    {
      "cell_type": "code",
      "source": [
        "df1['processed_text'] = df1['symptoms'].apply(lambda x: preprocess_text(x))\n",
        "print(df1[['symptoms', 'processed_text']].head(10))\n"
      ],
      "metadata": {
        "colab": {
          "base_uri": "https://localhost:8080/"
        },
        "id": "_ZsVLbmJI9QQ",
        "outputId": "f8f418fe-ab31-46d4-a97d-315a464dc3e7"
      },
      "execution_count": null,
      "outputs": [
        {
          "output_type": "stream",
          "name": "stdout",
          "text": [
            "  symptoms processed_text\n",
            "0                        \n",
            "1                        \n",
            "2                        \n",
            "3                        \n",
            "4                        \n",
            "5                        \n",
            "6                        \n",
            "7                        \n",
            "8                        \n",
            "9                        \n"
          ]
        }
      ]
    },
    {
      "cell_type": "markdown",
      "source": [
        "Verify Processed Text Output\n",
        "\n",
        "\n"
      ],
      "metadata": {
        "id": "zh5UnydOJAMZ"
      }
    },
    {
      "cell_type": "code",
      "source": [
        "print(df1['processed_text'].head(20))\n"
      ],
      "metadata": {
        "colab": {
          "base_uri": "https://localhost:8080/"
        },
        "id": "a_h9UkpWJGbI",
        "outputId": "75ba6b9a-a37d-45ab-9cc2-1d2407592a2f"
      },
      "execution_count": null,
      "outputs": [
        {
          "output_type": "stream",
          "name": "stdout",
          "text": [
            "0     \n",
            "1     \n",
            "2     \n",
            "3     \n",
            "4     \n",
            "5     \n",
            "6     \n",
            "7     \n",
            "8     \n",
            "9     \n",
            "10    \n",
            "11    \n",
            "12    \n",
            "13    \n",
            "14    \n",
            "15    \n",
            "16    \n",
            "17    \n",
            "18    \n",
            "19    \n",
            "Name: processed_text, dtype: object\n"
          ]
        }
      ]
    },
    {
      "cell_type": "markdown",
      "source": [
        "Simplify the Preprocessing Function"
      ],
      "metadata": {
        "id": "eBkm3NwvJcAX"
      }
    },
    {
      "cell_type": "code",
      "source": [
        "import re\n",
        "\n",
        "def preprocess_text(text):\n",
        "    text = text.lower()  # Convert to lowercase\n",
        "    text = re.sub(r'[^\\w\\s]', '', text)  # Remove punctuation\n",
        "    text = re.sub(r'\\s+', ' ', text)  # Remove extra whitespace\n",
        "    return text.strip()\n",
        "\n",
        "# Reapply the preprocessing function\n",
        "df1['processed_text'] = df1['symptoms'].apply(preprocess_text)\n"
      ],
      "metadata": {
        "id": "4-o4jR22JeJQ"
      },
      "execution_count": null,
      "outputs": []
    },
    {
      "cell_type": "markdown",
      "source": [
        "Check for Empty Rows"
      ],
      "metadata": {
        "id": "Pnx6DkHjJhIn"
      }
    },
    {
      "cell_type": "code",
      "source": [
        "print(df1[df1['processed_text'] == ''])  # Check for empty rows\n"
      ],
      "metadata": {
        "colab": {
          "base_uri": "https://localhost:8080/"
        },
        "id": "ZR0n4MlqJh9R",
        "outputId": "57f34ed2-5047-4916-bc8a-f6871bfaa863"
      },
      "execution_count": null,
      "outputs": [
        {
          "output_type": "stream",
          "name": "stdout",
          "text": [
            "         Disease Fever Cough Fatigue Difficulty Breathing  Age  Gender  \\\n",
            "0      Influenza   Yes    No     Yes                  Yes   19  Female   \n",
            "1    Common Cold    No   Yes     Yes                   No   25  Female   \n",
            "2         Eczema    No   Yes     Yes                   No   25  Female   \n",
            "3         Asthma   Yes   Yes      No                  Yes   25    Male   \n",
            "4         Asthma   Yes   Yes      No                  Yes   25    Male   \n",
            "..           ...   ...   ...     ...                  ...  ...     ...   \n",
            "344       Stroke   Yes    No     Yes                   No   80  Female   \n",
            "345       Stroke   Yes    No     Yes                   No   85    Male   \n",
            "346       Stroke   Yes    No     Yes                   No   85    Male   \n",
            "347       Stroke   Yes    No     Yes                   No   90  Female   \n",
            "348       Stroke   Yes    No     Yes                   No   90  Female   \n",
            "\n",
            "    Blood Pressure Cholesterol Level Outcome Variable symptoms processed_text  \n",
            "0              Low            Normal         Positive                          \n",
            "1           Normal            Normal         Negative                          \n",
            "2           Normal            Normal         Negative                          \n",
            "3           Normal            Normal         Positive                          \n",
            "4           Normal            Normal         Positive                          \n",
            "..             ...               ...              ...      ...            ...  \n",
            "344           High              High         Positive                          \n",
            "345           High              High         Positive                          \n",
            "346           High              High         Positive                          \n",
            "347           High              High         Positive                          \n",
            "348           High              High         Positive                          \n",
            "\n",
            "[349 rows x 12 columns]\n"
          ]
        }
      ]
    },
    {
      "cell_type": "markdown",
      "source": [
        "Revisit Symptoms Preprocessing:"
      ],
      "metadata": {
        "id": "lwJzzsnkJkrv"
      }
    },
    {
      "cell_type": "code",
      "source": [
        "# Generate the 'symptoms' column from relevant features\n",
        "df1['symptoms'] = df1.apply(lambda row: ' '.join([row[col] for col in ['Fever', 'Cough', 'Fatigue', 'Difficulty Breathing'] if row[col] == 'Yes']), axis=1)\n",
        "\n",
        "# Reapply preprocessing\n",
        "df1['processed_text'] = df1['symptoms'].apply(preprocess_text)\n"
      ],
      "metadata": {
        "id": "SnJBOHQNJnUg"
      },
      "execution_count": null,
      "outputs": []
    },
    {
      "cell_type": "markdown",
      "source": [
        "Check Processed Text:"
      ],
      "metadata": {
        "id": "-y356c86J_54"
      }
    },
    {
      "cell_type": "code",
      "source": [
        "print(df1[['symptoms', 'processed_text']].head(10))\n"
      ],
      "metadata": {
        "colab": {
          "base_uri": "https://localhost:8080/"
        },
        "id": "LVZCLMyYJ8LK",
        "outputId": "8f32ff22-5895-42eb-d1fa-f66b9685735b"
      },
      "execution_count": null,
      "outputs": [
        {
          "output_type": "stream",
          "name": "stdout",
          "text": [
            "          symptoms   processed_text\n",
            "0      Yes Yes Yes      yes yes yes\n",
            "1          Yes Yes          yes yes\n",
            "2          Yes Yes          yes yes\n",
            "3      Yes Yes Yes      yes yes yes\n",
            "4      Yes Yes Yes      yes yes yes\n",
            "5              Yes              yes\n",
            "6  Yes Yes Yes Yes  yes yes yes yes\n",
            "7  Yes Yes Yes Yes  yes yes yes yes\n",
            "8              Yes              yes\n",
            "9              Yes              yes\n"
          ]
        }
      ]
    },
    {
      "cell_type": "markdown",
      "source": [
        "Retry TF-IDF Vectorization:"
      ],
      "metadata": {
        "id": "pGot1pvSLpFL"
      }
    },
    {
      "cell_type": "code",
      "source": [
        "from sklearn.feature_extraction.text import TfidfVectorizer\n",
        "\n",
        "vectorizer = TfidfVectorizer(max_features=5000)\n",
        "X = vectorizer.fit_transform(df1['processed_text']).toarray()\n"
      ],
      "metadata": {
        "id": "pbJ7BH6TLowk"
      },
      "execution_count": null,
      "outputs": []
    },
    {
      "cell_type": "markdown",
      "source": [
        "Split the Data"
      ],
      "metadata": {
        "id": "EKyS8B1BLyx7"
      }
    },
    {
      "cell_type": "code",
      "source": [
        "from sklearn.model_selection import train_test_split\n",
        "\n",
        "X = vectorizer.fit_transform(df1['processed_text']).toarray()\n",
        "y = df1['Disease']  # Assuming you want to predict the disease\n",
        "\n",
        "X_train, X_test, y_train, y_test = train_test_split(X, y, test_size=0.2, random_state=42)\n"
      ],
      "metadata": {
        "id": "OpO-ZobaLzZb"
      },
      "execution_count": null,
      "outputs": []
    },
    {
      "cell_type": "markdown",
      "source": [
        "Choose and Train a Model:"
      ],
      "metadata": {
        "id": "pbKwCJW1L2ib"
      }
    },
    {
      "cell_type": "code",
      "source": [
        "from sklearn.ensemble import RandomForestClassifier\n",
        "from sklearn.metrics import classification_report, accuracy_score\n",
        "\n",
        "model = RandomForestClassifier(random_state=42)\n",
        "model.fit(X_train, y_train)\n",
        "\n",
        "# Make predictions\n",
        "y_pred = model.predict(X_test)\n",
        "\n",
        "# Evaluate the model\n",
        "print(\"Accuracy:\", accuracy_score(y_test, y_pred))\n",
        "print(\"Classification Report:\\n\", classification_report(y_test, y_pred))\n"
      ],
      "metadata": {
        "colab": {
          "base_uri": "https://localhost:8080/"
        },
        "id": "_H-alhGyL4oy",
        "outputId": "0821db19-0817-4e37-de1f-028b9a200bd0"
      },
      "execution_count": null,
      "outputs": [
        {
          "output_type": "stream",
          "name": "stdout",
          "text": [
            "Accuracy: 0.12857142857142856\n",
            "Classification Report:\n",
            "                                               precision    recall  f1-score   support\n",
            "\n",
            "                           Allergic Rhinitis       0.00      0.00      0.00         2\n",
            "                                      Asthma       0.13      1.00      0.23         9\n",
            "                              Bladder Cancer       0.00      0.00      0.00         1\n",
            "                                 Brain Tumor       0.00      0.00      0.00         1\n",
            "                               Breast Cancer       0.00      0.00      0.00         1\n",
            "                                  Bronchitis       0.00      0.00      0.00         2\n",
            "                                     Cholera       0.00      0.00      0.00         1\n",
            "Chronic Obstructive Pulmonary Disease (COPD)       0.00      0.00      0.00         1\n",
            "                                   Cirrhosis       0.00      0.00      0.00         1\n",
            "                           Colorectal Cancer       0.00      0.00      0.00         1\n",
            "                             Crohn's Disease       0.00      0.00      0.00         1\n",
            "                                Dengue Fever       0.00      0.00      0.00         1\n",
            "                                    Diabetes       0.00      0.00      0.00         1\n",
            "                                 Ebola Virus       0.00      0.00      0.00         1\n",
            "                                      Eczema       0.00      0.00      0.00         2\n",
            "                             Gastroenteritis       0.00      0.00      0.00         1\n",
            "                                    HIV/AIDS       0.00      0.00      0.00         1\n",
            "                                  Hemophilia       0.00      0.00      0.00         1\n",
            "                                Hypertension       0.00      0.00      0.00         0\n",
            "                             Hyperthyroidism       0.00      0.00      0.00         2\n",
            "                              Hypothyroidism       0.00      0.00      0.00         2\n",
            "                                   Influenza       0.00      0.00      0.00         3\n",
            "                               Kidney Cancer       0.00      0.00      0.00         1\n",
            "                                Liver Cancer       0.00      0.00      0.00         1\n",
            "                                Lyme Disease       0.00      0.00      0.00         2\n",
            "                                     Measles       0.00      0.00      0.00         1\n",
            "                                    Melanoma       0.00      0.00      0.00         1\n",
            "                                    Migraine       0.00      0.00      0.00         2\n",
            "                          Multiple Sclerosis       0.00      0.00      0.00         1\n",
            "                                       Mumps       0.00      0.00      0.00         1\n",
            "                          Muscular Dystrophy       0.00      0.00      0.00         1\n",
            "                              Osteoarthritis       0.00      0.00      0.00         3\n",
            "                                Osteoporosis       0.00      0.00      0.00         2\n",
            "                                Pancreatitis       0.00      0.00      0.00         1\n",
            "                                       Polio       0.00      0.00      0.00         1\n",
            "                                      Rabies       0.00      0.00      0.00         1\n",
            "                                     Rubella       0.00      0.00      0.00         2\n",
            "                          Sickle Cell Anemia       0.00      0.00      0.00         1\n",
            "                                Spina Bifida       0.00      0.00      0.00         1\n",
            "                                      Stroke       0.00      0.00      0.00         4\n",
            "                                 Tonsillitis       0.00      0.00      0.00         1\n",
            "                           Tourette Syndrome       0.00      0.00      0.00         1\n",
            "                          Ulcerative Colitis       0.00      0.00      0.00         3\n",
            "                     Urinary Tract Infection       0.00      0.00      0.00         1\n",
            "                                  Zika Virus       0.00      0.00      0.00         1\n",
            "\n",
            "                                    accuracy                           0.13        70\n",
            "                                   macro avg       0.00      0.02      0.01        70\n",
            "                                weighted avg       0.02      0.13      0.03        70\n",
            "\n"
          ]
        },
        {
          "output_type": "stream",
          "name": "stderr",
          "text": [
            "/usr/local/lib/python3.10/dist-packages/sklearn/metrics/_classification.py:1471: UndefinedMetricWarning: Precision and F-score are ill-defined and being set to 0.0 in labels with no predicted samples. Use `zero_division` parameter to control this behavior.\n",
            "  _warn_prf(average, modifier, msg_start, len(result))\n",
            "/usr/local/lib/python3.10/dist-packages/sklearn/metrics/_classification.py:1471: UndefinedMetricWarning: Recall and F-score are ill-defined and being set to 0.0 in labels with no true samples. Use `zero_division` parameter to control this behavior.\n",
            "  _warn_prf(average, modifier, msg_start, len(result))\n",
            "/usr/local/lib/python3.10/dist-packages/sklearn/metrics/_classification.py:1471: UndefinedMetricWarning: Precision and F-score are ill-defined and being set to 0.0 in labels with no predicted samples. Use `zero_division` parameter to control this behavior.\n",
            "  _warn_prf(average, modifier, msg_start, len(result))\n",
            "/usr/local/lib/python3.10/dist-packages/sklearn/metrics/_classification.py:1471: UndefinedMetricWarning: Recall and F-score are ill-defined and being set to 0.0 in labels with no true samples. Use `zero_division` parameter to control this behavior.\n",
            "  _warn_prf(average, modifier, msg_start, len(result))\n",
            "/usr/local/lib/python3.10/dist-packages/sklearn/metrics/_classification.py:1471: UndefinedMetricWarning: Precision and F-score are ill-defined and being set to 0.0 in labels with no predicted samples. Use `zero_division` parameter to control this behavior.\n",
            "  _warn_prf(average, modifier, msg_start, len(result))\n",
            "/usr/local/lib/python3.10/dist-packages/sklearn/metrics/_classification.py:1471: UndefinedMetricWarning: Recall and F-score are ill-defined and being set to 0.0 in labels with no true samples. Use `zero_division` parameter to control this behavior.\n",
            "  _warn_prf(average, modifier, msg_start, len(result))\n"
          ]
        }
      ]
    },
    {
      "cell_type": "markdown",
      "source": [
        "Try Different Models:"
      ],
      "metadata": {
        "id": "s6AtqEo2MLTa"
      }
    },
    {
      "cell_type": "code",
      "source": [
        "from sklearn.svm import SVC\n",
        "from sklearn.naive_bayes import MultinomialNB\n",
        "\n",
        "# Example with SVM\n",
        "svm_model = SVC()\n",
        "svm_model.fit(X_train, y_train)\n",
        "y_pred_svm = svm_model.predict(X_test)\n",
        "print(\"SVM Accuracy:\", accuracy_score(y_test, y_pred_svm))\n",
        "print(\"SVM Classification Report:\\n\", classification_report(y_test, y_pred_svm))\n",
        "\n",
        "# Example with Naive Bayes\n",
        "nb_model = MultinomialNB()\n",
        "nb_model.fit(X_train, y_train)\n",
        "y_pred_nb = nb_model.predict(X_test)\n",
        "print(\"Naive Bayes Accuracy:\", accuracy_score(y_test, y_pred_nb))\n",
        "print(\"Naive Bayes Classification Report:\\n\", classification_report(y_test, y_pred_nb))\n"
      ],
      "metadata": {
        "colab": {
          "base_uri": "https://localhost:8080/"
        },
        "id": "_n84Vv4vML3i",
        "outputId": "5c337804-b881-442b-a496-3f23f3332303"
      },
      "execution_count": null,
      "outputs": [
        {
          "output_type": "stream",
          "name": "stdout",
          "text": [
            "SVM Accuracy: 0.12857142857142856\n",
            "SVM Classification Report:\n",
            "                                               precision    recall  f1-score   support\n",
            "\n",
            "                           Allergic Rhinitis       0.00      0.00      0.00         2\n",
            "                                      Asthma       0.13      1.00      0.23         9\n",
            "                              Bladder Cancer       0.00      0.00      0.00         1\n",
            "                                 Brain Tumor       0.00      0.00      0.00         1\n",
            "                               Breast Cancer       0.00      0.00      0.00         1\n",
            "                                  Bronchitis       0.00      0.00      0.00         2\n",
            "                                     Cholera       0.00      0.00      0.00         1\n",
            "Chronic Obstructive Pulmonary Disease (COPD)       0.00      0.00      0.00         1\n",
            "                                   Cirrhosis       0.00      0.00      0.00         1\n",
            "                           Colorectal Cancer       0.00      0.00      0.00         1\n",
            "                             Crohn's Disease       0.00      0.00      0.00         1\n",
            "                                Dengue Fever       0.00      0.00      0.00         1\n",
            "                                    Diabetes       0.00      0.00      0.00         1\n",
            "                                 Ebola Virus       0.00      0.00      0.00         1\n",
            "                                      Eczema       0.00      0.00      0.00         2\n",
            "                             Gastroenteritis       0.00      0.00      0.00         1\n",
            "                                    HIV/AIDS       0.00      0.00      0.00         1\n",
            "                                  Hemophilia       0.00      0.00      0.00         1\n",
            "                                Hypertension       0.00      0.00      0.00         0\n",
            "                             Hyperthyroidism       0.00      0.00      0.00         2\n",
            "                              Hypothyroidism       0.00      0.00      0.00         2\n",
            "                                   Influenza       0.00      0.00      0.00         3\n",
            "                               Kidney Cancer       0.00      0.00      0.00         1\n",
            "                                Liver Cancer       0.00      0.00      0.00         1\n",
            "                                Lyme Disease       0.00      0.00      0.00         2\n",
            "                                     Measles       0.00      0.00      0.00         1\n",
            "                                    Melanoma       0.00      0.00      0.00         1\n",
            "                                    Migraine       0.00      0.00      0.00         2\n",
            "                          Multiple Sclerosis       0.00      0.00      0.00         1\n",
            "                                       Mumps       0.00      0.00      0.00         1\n",
            "                          Muscular Dystrophy       0.00      0.00      0.00         1\n",
            "                              Osteoarthritis       0.00      0.00      0.00         3\n",
            "                                Osteoporosis       0.00      0.00      0.00         2\n",
            "                                Pancreatitis       0.00      0.00      0.00         1\n",
            "                                       Polio       0.00      0.00      0.00         1\n",
            "                                      Rabies       0.00      0.00      0.00         1\n",
            "                                     Rubella       0.00      0.00      0.00         2\n",
            "                          Sickle Cell Anemia       0.00      0.00      0.00         1\n",
            "                                Spina Bifida       0.00      0.00      0.00         1\n",
            "                                      Stroke       0.00      0.00      0.00         4\n",
            "                                 Tonsillitis       0.00      0.00      0.00         1\n",
            "                           Tourette Syndrome       0.00      0.00      0.00         1\n",
            "                          Ulcerative Colitis       0.00      0.00      0.00         3\n",
            "                     Urinary Tract Infection       0.00      0.00      0.00         1\n",
            "                                  Zika Virus       0.00      0.00      0.00         1\n",
            "\n",
            "                                    accuracy                           0.13        70\n",
            "                                   macro avg       0.00      0.02      0.01        70\n",
            "                                weighted avg       0.02      0.13      0.03        70\n",
            "\n",
            "Naive Bayes Accuracy: 0.12857142857142856\n",
            "Naive Bayes Classification Report:\n",
            "                                               precision    recall  f1-score   support\n",
            "\n",
            "                           Allergic Rhinitis       0.00      0.00      0.00         2\n",
            "                                      Asthma       0.13      1.00      0.23         9\n",
            "                              Bladder Cancer       0.00      0.00      0.00         1\n",
            "                                 Brain Tumor       0.00      0.00      0.00         1\n",
            "                               Breast Cancer       0.00      0.00      0.00         1\n",
            "                                  Bronchitis       0.00      0.00      0.00         2\n",
            "                                     Cholera       0.00      0.00      0.00         1\n",
            "Chronic Obstructive Pulmonary Disease (COPD)       0.00      0.00      0.00         1\n",
            "                                   Cirrhosis       0.00      0.00      0.00         1\n",
            "                           Colorectal Cancer       0.00      0.00      0.00         1\n",
            "                             Crohn's Disease       0.00      0.00      0.00         1\n",
            "                                Dengue Fever       0.00      0.00      0.00         1\n",
            "                                    Diabetes       0.00      0.00      0.00         1\n",
            "                                 Ebola Virus       0.00      0.00      0.00         1\n",
            "                                      Eczema       0.00      0.00      0.00         2\n",
            "                             Gastroenteritis       0.00      0.00      0.00         1\n",
            "                                    HIV/AIDS       0.00      0.00      0.00         1\n",
            "                                  Hemophilia       0.00      0.00      0.00         1\n",
            "                             Hyperthyroidism       0.00      0.00      0.00         2\n",
            "                              Hypothyroidism       0.00      0.00      0.00         2\n",
            "                                   Influenza       0.00      0.00      0.00         3\n",
            "                               Kidney Cancer       0.00      0.00      0.00         1\n",
            "                                Liver Cancer       0.00      0.00      0.00         1\n",
            "                                Lyme Disease       0.00      0.00      0.00         2\n",
            "                                     Measles       0.00      0.00      0.00         1\n",
            "                                    Melanoma       0.00      0.00      0.00         1\n",
            "                                    Migraine       0.00      0.00      0.00         2\n",
            "                          Multiple Sclerosis       0.00      0.00      0.00         1\n",
            "                                       Mumps       0.00      0.00      0.00         1\n",
            "                          Muscular Dystrophy       0.00      0.00      0.00         1\n",
            "                              Osteoarthritis       0.00      0.00      0.00         3\n",
            "                                Osteoporosis       0.00      0.00      0.00         2\n",
            "                                Pancreatitis       0.00      0.00      0.00         1\n",
            "                                       Polio       0.00      0.00      0.00         1\n",
            "                                      Rabies       0.00      0.00      0.00         1\n",
            "                                     Rubella       0.00      0.00      0.00         2\n",
            "                          Sickle Cell Anemia       0.00      0.00      0.00         1\n",
            "                                Spina Bifida       0.00      0.00      0.00         1\n",
            "                                      Stroke       0.00      0.00      0.00         4\n",
            "                                 Tonsillitis       0.00      0.00      0.00         1\n",
            "                           Tourette Syndrome       0.00      0.00      0.00         1\n",
            "                          Ulcerative Colitis       0.00      0.00      0.00         3\n",
            "                     Urinary Tract Infection       0.00      0.00      0.00         1\n",
            "                                  Zika Virus       0.00      0.00      0.00         1\n",
            "\n",
            "                                    accuracy                           0.13        70\n",
            "                                   macro avg       0.00      0.02      0.01        70\n",
            "                                weighted avg       0.02      0.13      0.03        70\n",
            "\n"
          ]
        },
        {
          "output_type": "stream",
          "name": "stderr",
          "text": [
            "/usr/local/lib/python3.10/dist-packages/sklearn/metrics/_classification.py:1471: UndefinedMetricWarning: Precision and F-score are ill-defined and being set to 0.0 in labels with no predicted samples. Use `zero_division` parameter to control this behavior.\n",
            "  _warn_prf(average, modifier, msg_start, len(result))\n",
            "/usr/local/lib/python3.10/dist-packages/sklearn/metrics/_classification.py:1471: UndefinedMetricWarning: Recall and F-score are ill-defined and being set to 0.0 in labels with no true samples. Use `zero_division` parameter to control this behavior.\n",
            "  _warn_prf(average, modifier, msg_start, len(result))\n",
            "/usr/local/lib/python3.10/dist-packages/sklearn/metrics/_classification.py:1471: UndefinedMetricWarning: Precision and F-score are ill-defined and being set to 0.0 in labels with no predicted samples. Use `zero_division` parameter to control this behavior.\n",
            "  _warn_prf(average, modifier, msg_start, len(result))\n",
            "/usr/local/lib/python3.10/dist-packages/sklearn/metrics/_classification.py:1471: UndefinedMetricWarning: Recall and F-score are ill-defined and being set to 0.0 in labels with no true samples. Use `zero_division` parameter to control this behavior.\n",
            "  _warn_prf(average, modifier, msg_start, len(result))\n",
            "/usr/local/lib/python3.10/dist-packages/sklearn/metrics/_classification.py:1471: UndefinedMetricWarning: Precision and F-score are ill-defined and being set to 0.0 in labels with no predicted samples. Use `zero_division` parameter to control this behavior.\n",
            "  _warn_prf(average, modifier, msg_start, len(result))\n",
            "/usr/local/lib/python3.10/dist-packages/sklearn/metrics/_classification.py:1471: UndefinedMetricWarning: Recall and F-score are ill-defined and being set to 0.0 in labels with no true samples. Use `zero_division` parameter to control this behavior.\n",
            "  _warn_prf(average, modifier, msg_start, len(result))\n",
            "/usr/local/lib/python3.10/dist-packages/sklearn/metrics/_classification.py:1471: UndefinedMetricWarning: Precision and F-score are ill-defined and being set to 0.0 in labels with no predicted samples. Use `zero_division` parameter to control this behavior.\n",
            "  _warn_prf(average, modifier, msg_start, len(result))\n",
            "/usr/local/lib/python3.10/dist-packages/sklearn/metrics/_classification.py:1471: UndefinedMetricWarning: Precision and F-score are ill-defined and being set to 0.0 in labels with no predicted samples. Use `zero_division` parameter to control this behavior.\n",
            "  _warn_prf(average, modifier, msg_start, len(result))\n",
            "/usr/local/lib/python3.10/dist-packages/sklearn/metrics/_classification.py:1471: UndefinedMetricWarning: Precision and F-score are ill-defined and being set to 0.0 in labels with no predicted samples. Use `zero_division` parameter to control this behavior.\n",
            "  _warn_prf(average, modifier, msg_start, len(result))\n"
          ]
        }
      ]
    },
    {
      "cell_type": "markdown",
      "source": [
        "Check Class Distribution:"
      ],
      "metadata": {
        "id": "ak2bGvdmMq3C"
      }
    },
    {
      "cell_type": "code",
      "source": [
        "import pandas as pd\n",
        "print(pd.Series(y_train).value_counts())\n"
      ],
      "metadata": {
        "colab": {
          "base_uri": "https://localhost:8080/"
        },
        "id": "KHBYPwCoMrcK",
        "outputId": "6050dd47-0980-4437-818d-dc3eac0c1a29"
      },
      "execution_count": null,
      "outputs": [
        {
          "output_type": "stream",
          "name": "stdout",
          "text": [
            "Disease\n",
            "Asthma            14\n",
            "Osteoporosis      12\n",
            "Stroke            12\n",
            "Hypertension      10\n",
            "Diabetes           9\n",
            "                  ..\n",
            "Rabies             1\n",
            "Scoliosis          1\n",
            "Thyroid Cancer     1\n",
            "Hemophilia         1\n",
            "Endometriosis      1\n",
            "Name: count, Length: 102, dtype: int64\n"
          ]
        }
      ]
    },
    {
      "cell_type": "markdown",
      "source": [
        "Use SMOTE with Different Parameters"
      ],
      "metadata": {
        "id": "WB9yC5ZpMwYB"
      }
    },
    {
      "cell_type": "code",
      "source": [
        "from imblearn.over_sampling import SMOTE\n",
        "\n",
        "# Set k_neighbors to a value that is <= the size of the smallest class\n",
        "smote = SMOTE(random_state=42, k_neighbors=1)  # Adjust k_neighbors as needed\n"
      ],
      "metadata": {
        "id": "WCQCRY6GMxIR"
      },
      "execution_count": null,
      "outputs": []
    },
    {
      "cell_type": "markdown",
      "source": [
        "Try RandomOverSampler"
      ],
      "metadata": {
        "id": "LBpSZ_TDNPIB"
      }
    },
    {
      "cell_type": "code",
      "source": [
        "from imblearn.over_sampling import RandomOverSampler\n",
        "\n",
        "ros = RandomOverSampler(random_state=42)\n",
        "X_resampled, y_resampled = ros.fit_resample(X_train, y_train)\n"
      ],
      "metadata": {
        "id": "0IT6HWWSNPti"
      },
      "execution_count": null,
      "outputs": []
    },
    {
      "cell_type": "markdown",
      "source": [
        "Check the Minimum Class Size"
      ],
      "metadata": {
        "id": "inDmRpbmNTu6"
      }
    },
    {
      "cell_type": "code",
      "source": [
        "import numpy as np\n",
        "from collections import Counter\n",
        "\n",
        "class_counts = Counter(y_train)\n",
        "min_class_size = min(class_counts.values())\n",
        "print(f\"Smallest class size: {min_class_size}\")\n"
      ],
      "metadata": {
        "colab": {
          "base_uri": "https://localhost:8080/"
        },
        "id": "T8XTKRM7NVSi",
        "outputId": "9f8bfb6c-37c4-46fc-d39b-23ef0a04ff61"
      },
      "execution_count": null,
      "outputs": [
        {
          "output_type": "stream",
          "name": "stdout",
          "text": [
            "Smallest class size: 1\n"
          ]
        }
      ]
    },
    {
      "cell_type": "markdown",
      "source": [
        "Solutions for Handling Smallest Class Size:"
      ],
      "metadata": {
        "id": "CYQlpSvoNmdB"
      }
    },
    {
      "cell_type": "markdown",
      "source": [
        " Handle Small Class Sizes"
      ],
      "metadata": {
        "id": "y0E1Iv0PORZx"
      }
    },
    {
      "cell_type": "code",
      "source": [
        "import numpy as np\n",
        "from collections import Counter\n",
        "\n",
        "# Identify classes with only one sample\n",
        "class_counts = Counter(y_train)\n",
        "small_classes = [cls for cls, count in class_counts.items() if count <= 1]\n",
        "\n",
        "# Filter out these classes from your dataset\n",
        "mask = ~np.isin(y_train, small_classes)\n",
        "X_train_filtered = X_train[mask]\n",
        "y_train_filtered = y_train[mask]\n"
      ],
      "metadata": {
        "id": "vCvFL_VWNnQg"
      },
      "execution_count": null,
      "outputs": []
    },
    {
      "cell_type": "code",
      "source": [
        "from collections import Counter\n",
        "\n",
        "# Check class distribution in filtered data\n",
        "filtered_class_counts = Counter(y_train_filtered)\n",
        "print(filtered_class_counts)\n"
      ],
      "metadata": {
        "colab": {
          "base_uri": "https://localhost:8080/"
        },
        "id": "GjH58_xXOaYw",
        "outputId": "3b4c862f-f973-4a62-fe2f-54844cd509c2"
      },
      "execution_count": null,
      "outputs": [
        {
          "output_type": "stream",
          "name": "stdout",
          "text": [
            "Counter({'Asthma': 14, 'Stroke': 12, 'Osteoporosis': 12, 'Hypertension': 10, 'Diabetes': 9, 'Pneumonia': 8, 'Migraine': 8, 'Bronchitis': 6, 'Rheumatoid Arthritis': 6, 'Depression': 6, 'Anxiety Disorders': 6, 'Common Cold': 6, 'Hyperthyroidism': 5, 'Influenza': 5, \"Alzheimer's Disease\": 5, 'Kidney Disease': 5, 'Hypothyroidism': 5, 'Psoriasis': 5, 'Gastroenteritis': 5, 'Coronary Artery Disease': 5, 'Liver Cancer': 5, 'Kidney Cancer': 5, \"Parkinson's Disease\": 5, 'Liver Disease': 5, 'Pancreatitis': 4, \"Crohn's Disease\": 4, 'Eczema': 4, 'Urinary Tract Infection': 4, 'Allergic Rhinitis': 4, 'Multiple Sclerosis': 4, 'Urinary Tract Infection (UTI)': 3, 'Chronic Obstructive Pulmonary Disease (COPD)': 3, 'Hepatitis': 3, 'Lung Cancer': 3, 'Osteoarthritis': 3, 'Tuberculosis': 3, 'Typhoid Fever': 2, 'Klinefelter Syndrome': 2, 'Turner Syndrome': 2, 'Hepatitis B': 2, 'Malaria': 2, 'Chickenpox': 2, 'Ulcerative Colitis': 2, 'Tetanus': 2})\n"
          ]
        }
      ]
    },
    {
      "cell_type": "markdown",
      "source": [
        "Random Over-Sampling"
      ],
      "metadata": {
        "id": "mbnQudOoN8h5"
      }
    },
    {
      "cell_type": "code",
      "source": [
        "from imblearn.over_sampling import RandomOverSampler\n",
        "\n",
        "ros = RandomOverSampler(random_state=42)\n",
        "X_resampled, y_resampled = ros.fit_resample(X_train, y_train)\n"
      ],
      "metadata": {
        "id": "pGhQ-wDON9EQ"
      },
      "execution_count": null,
      "outputs": []
    },
    {
      "cell_type": "markdown",
      "source": [
        "Adjust k_neighbors Appropriately"
      ],
      "metadata": {
        "id": "OrEX_RWrN_Sw"
      }
    },
    {
      "cell_type": "code",
      "source": [
        "from imblearn.over_sampling import SMOTE\n",
        "\n",
        "# Determine a valid k_neighbors value\n",
        "min_samples = min(filtered_class_counts.values())\n",
        "k_neighbors = min(min_samples - 1, 5)  # Ensure k_neighbors is less than the number of samples in the smallest class\n",
        "\n",
        "smote = SMOTE(random_state=42, k_neighbors=k_neighbors)\n",
        "X_resampled, y_resampled = smote.fit_resample(X_train_filtered, y_train_filtered)\n"
      ],
      "metadata": {
        "id": "g1Xq6rfISp1v"
      },
      "execution_count": null,
      "outputs": []
    },
    {
      "cell_type": "markdown",
      "source": [
        "Handle Classes with Very Few Samples"
      ],
      "metadata": {
        "id": "q6F_VSyWSuj2"
      }
    },
    {
      "cell_type": "code",
      "source": [
        "from imblearn.over_sampling import RandomOverSampler\n",
        "\n",
        "ros = RandomOverSampler(random_state=42)\n",
        "X_resampled, y_resampled = ros.fit_resample(X_train, y_train)\n"
      ],
      "metadata": {
        "id": "u-D01mAuSwiP"
      },
      "execution_count": null,
      "outputs": []
    },
    {
      "cell_type": "markdown",
      "source": [
        "SMOTE with a Different Strategy"
      ],
      "metadata": {
        "id": "PD6dtRhyS3lu"
      }
    },
    {
      "cell_type": "code",
      "source": [
        "from imblearn.over_sampling import SMOTE\n",
        "\n",
        "smote = SMOTE(random_state=42, k_neighbors=1)  # Adjust based on data\n",
        "X_resampled, y_resampled = smote.fit_resample(X_train, y_train)\n"
      ],
      "metadata": {
        "id": "YT5uJcGUS4Jf",
        "outputId": "74a7c85c-2f86-4b83-d3da-7a0d92fe806c",
        "colab": {
          "base_uri": "https://localhost:8080/",
          "height": 338
        }
      },
      "execution_count": null,
      "outputs": [
        {
          "output_type": "error",
          "ename": "ValueError",
          "evalue": "Expected n_neighbors <= n_samples,  but n_samples = 1, n_neighbors = 2",
          "traceback": [
            "\u001b[0;31m---------------------------------------------------------------------------\u001b[0m",
            "\u001b[0;31mValueError\u001b[0m                                Traceback (most recent call last)",
            "\u001b[0;32m<ipython-input-75-f5a57e615520>\u001b[0m in \u001b[0;36m<cell line: 4>\u001b[0;34m()\u001b[0m\n\u001b[1;32m      2\u001b[0m \u001b[0;34m\u001b[0m\u001b[0m\n\u001b[1;32m      3\u001b[0m \u001b[0msmote\u001b[0m \u001b[0;34m=\u001b[0m \u001b[0mSMOTE\u001b[0m\u001b[0;34m(\u001b[0m\u001b[0mrandom_state\u001b[0m\u001b[0;34m=\u001b[0m\u001b[0;36m42\u001b[0m\u001b[0;34m,\u001b[0m \u001b[0mk_neighbors\u001b[0m\u001b[0;34m=\u001b[0m\u001b[0;36m1\u001b[0m\u001b[0;34m)\u001b[0m  \u001b[0;31m# Adjust based on data\u001b[0m\u001b[0;34m\u001b[0m\u001b[0;34m\u001b[0m\u001b[0m\n\u001b[0;32m----> 4\u001b[0;31m \u001b[0mX_resampled\u001b[0m\u001b[0;34m,\u001b[0m \u001b[0my_resampled\u001b[0m \u001b[0;34m=\u001b[0m \u001b[0msmote\u001b[0m\u001b[0;34m.\u001b[0m\u001b[0mfit_resample\u001b[0m\u001b[0;34m(\u001b[0m\u001b[0mX_train\u001b[0m\u001b[0;34m,\u001b[0m \u001b[0my_train\u001b[0m\u001b[0;34m)\u001b[0m\u001b[0;34m\u001b[0m\u001b[0;34m\u001b[0m\u001b[0m\n\u001b[0m",
            "\u001b[0;32m/usr/local/lib/python3.10/dist-packages/imblearn/base.py\u001b[0m in \u001b[0;36mfit_resample\u001b[0;34m(self, X, y)\u001b[0m\n\u001b[1;32m    206\u001b[0m         \"\"\"\n\u001b[1;32m    207\u001b[0m         \u001b[0mself\u001b[0m\u001b[0;34m.\u001b[0m\u001b[0m_validate_params\u001b[0m\u001b[0;34m(\u001b[0m\u001b[0;34m)\u001b[0m\u001b[0;34m\u001b[0m\u001b[0;34m\u001b[0m\u001b[0m\n\u001b[0;32m--> 208\u001b[0;31m         \u001b[0;32mreturn\u001b[0m \u001b[0msuper\u001b[0m\u001b[0;34m(\u001b[0m\u001b[0;34m)\u001b[0m\u001b[0;34m.\u001b[0m\u001b[0mfit_resample\u001b[0m\u001b[0;34m(\u001b[0m\u001b[0mX\u001b[0m\u001b[0;34m,\u001b[0m \u001b[0my\u001b[0m\u001b[0;34m)\u001b[0m\u001b[0;34m\u001b[0m\u001b[0;34m\u001b[0m\u001b[0m\n\u001b[0m\u001b[1;32m    209\u001b[0m \u001b[0;34m\u001b[0m\u001b[0m\n\u001b[1;32m    210\u001b[0m     \u001b[0;32mdef\u001b[0m \u001b[0m_more_tags\u001b[0m\u001b[0;34m(\u001b[0m\u001b[0mself\u001b[0m\u001b[0;34m)\u001b[0m\u001b[0;34m:\u001b[0m\u001b[0;34m\u001b[0m\u001b[0;34m\u001b[0m\u001b[0m\n",
            "\u001b[0;32m/usr/local/lib/python3.10/dist-packages/imblearn/base.py\u001b[0m in \u001b[0;36mfit_resample\u001b[0;34m(self, X, y)\u001b[0m\n\u001b[1;32m    110\u001b[0m         )\n\u001b[1;32m    111\u001b[0m \u001b[0;34m\u001b[0m\u001b[0m\n\u001b[0;32m--> 112\u001b[0;31m         \u001b[0moutput\u001b[0m \u001b[0;34m=\u001b[0m \u001b[0mself\u001b[0m\u001b[0;34m.\u001b[0m\u001b[0m_fit_resample\u001b[0m\u001b[0;34m(\u001b[0m\u001b[0mX\u001b[0m\u001b[0;34m,\u001b[0m \u001b[0my\u001b[0m\u001b[0;34m)\u001b[0m\u001b[0;34m\u001b[0m\u001b[0;34m\u001b[0m\u001b[0m\n\u001b[0m\u001b[1;32m    113\u001b[0m \u001b[0;34m\u001b[0m\u001b[0m\n\u001b[1;32m    114\u001b[0m         y_ = (\n",
            "\u001b[0;32m/usr/local/lib/python3.10/dist-packages/imblearn/over_sampling/_smote/base.py\u001b[0m in \u001b[0;36m_fit_resample\u001b[0;34m(self, X, y)\u001b[0m\n\u001b[1;32m    387\u001b[0m \u001b[0;34m\u001b[0m\u001b[0m\n\u001b[1;32m    388\u001b[0m             \u001b[0mself\u001b[0m\u001b[0;34m.\u001b[0m\u001b[0mnn_k_\u001b[0m\u001b[0;34m.\u001b[0m\u001b[0mfit\u001b[0m\u001b[0;34m(\u001b[0m\u001b[0mX_class\u001b[0m\u001b[0;34m)\u001b[0m\u001b[0;34m\u001b[0m\u001b[0;34m\u001b[0m\u001b[0m\n\u001b[0;32m--> 389\u001b[0;31m             \u001b[0mnns\u001b[0m \u001b[0;34m=\u001b[0m \u001b[0mself\u001b[0m\u001b[0;34m.\u001b[0m\u001b[0mnn_k_\u001b[0m\u001b[0;34m.\u001b[0m\u001b[0mkneighbors\u001b[0m\u001b[0;34m(\u001b[0m\u001b[0mX_class\u001b[0m\u001b[0;34m,\u001b[0m \u001b[0mreturn_distance\u001b[0m\u001b[0;34m=\u001b[0m\u001b[0;32mFalse\u001b[0m\u001b[0;34m)\u001b[0m\u001b[0;34m[\u001b[0m\u001b[0;34m:\u001b[0m\u001b[0;34m,\u001b[0m \u001b[0;36m1\u001b[0m\u001b[0;34m:\u001b[0m\u001b[0;34m]\u001b[0m\u001b[0;34m\u001b[0m\u001b[0;34m\u001b[0m\u001b[0m\n\u001b[0m\u001b[1;32m    390\u001b[0m             X_new, y_new = self._make_samples(\n\u001b[1;32m    391\u001b[0m                 \u001b[0mX_class\u001b[0m\u001b[0;34m,\u001b[0m \u001b[0my\u001b[0m\u001b[0;34m.\u001b[0m\u001b[0mdtype\u001b[0m\u001b[0;34m,\u001b[0m \u001b[0mclass_sample\u001b[0m\u001b[0;34m,\u001b[0m \u001b[0mX_class\u001b[0m\u001b[0;34m,\u001b[0m \u001b[0mnns\u001b[0m\u001b[0;34m,\u001b[0m \u001b[0mn_samples\u001b[0m\u001b[0;34m,\u001b[0m \u001b[0;36m1.0\u001b[0m\u001b[0;34m\u001b[0m\u001b[0;34m\u001b[0m\u001b[0m\n",
            "\u001b[0;32m/usr/local/lib/python3.10/dist-packages/sklearn/neighbors/_base.py\u001b[0m in \u001b[0;36mkneighbors\u001b[0;34m(self, X, n_neighbors, return_distance)\u001b[0m\n\u001b[1;32m    806\u001b[0m         \u001b[0mn_samples_fit\u001b[0m \u001b[0;34m=\u001b[0m \u001b[0mself\u001b[0m\u001b[0;34m.\u001b[0m\u001b[0mn_samples_fit_\u001b[0m\u001b[0;34m\u001b[0m\u001b[0;34m\u001b[0m\u001b[0m\n\u001b[1;32m    807\u001b[0m         \u001b[0;32mif\u001b[0m \u001b[0mn_neighbors\u001b[0m \u001b[0;34m>\u001b[0m \u001b[0mn_samples_fit\u001b[0m\u001b[0;34m:\u001b[0m\u001b[0;34m\u001b[0m\u001b[0;34m\u001b[0m\u001b[0m\n\u001b[0;32m--> 808\u001b[0;31m             raise ValueError(\n\u001b[0m\u001b[1;32m    809\u001b[0m                 \u001b[0;34m\"Expected n_neighbors <= n_samples, \"\u001b[0m\u001b[0;34m\u001b[0m\u001b[0;34m\u001b[0m\u001b[0m\n\u001b[1;32m    810\u001b[0m                 \u001b[0;34m\" but n_samples = %d, n_neighbors = %d\"\u001b[0m \u001b[0;34m%\u001b[0m \u001b[0;34m(\u001b[0m\u001b[0mn_samples_fit\u001b[0m\u001b[0;34m,\u001b[0m \u001b[0mn_neighbors\u001b[0m\u001b[0;34m)\u001b[0m\u001b[0;34m\u001b[0m\u001b[0;34m\u001b[0m\u001b[0m\n",
            "\u001b[0;31mValueError\u001b[0m: Expected n_neighbors <= n_samples,  but n_samples = 1, n_neighbors = 2"
          ]
        }
      ]
    }
  ]
}